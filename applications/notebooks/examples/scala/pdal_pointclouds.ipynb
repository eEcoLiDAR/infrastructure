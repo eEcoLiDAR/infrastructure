{
 "cells": [
  {
   "cell_type": "markdown",
   "metadata": {},
   "source": [
    "# Load PointClouds in Spark using PDAL"
   ]
  },
  {
   "cell_type": "code",
   "execution_count": 1,
   "metadata": {},
   "outputs": [],
   "source": [
    "import geotrellis.pointcloud.spark.io.hadoop.HadoopPointCloudRDD\n",
    "import io.pdal.Pipeline\n",
    "import io.pdal.pipeline.{LasRead, RangeFilter, RawExpr, Read, ReprojectionFilter}\n",
    "import org.apache.hadoop.fs.Path\n",
    "import org.apache.spark.{SparkConf, SparkContext}"
   ]
  },
  {
   "cell_type": "code",
   "execution_count": 2,
   "metadata": {},
   "outputs": [
    {
     "data": {
      "text/plain": [
       "Waiting for a Spark session to start..."
      ]
     },
     "metadata": {},
     "output_type": "display_data"
    },
    {
     "data": {
      "text/plain": [
       "sparkContext = org.apache.spark.SparkContext@30fecec3\n"
      ]
     },
     "metadata": {},
     "output_type": "display_data"
    },
    {
     "data": {
      "text/html": [
       "<ul>\n",
       "<li><a href=\"Some(http://145.100.58.104:4040)\" target=\"new_tab\">Spark UI: app-20180417184903-0004</a></li>\n",
       "</ul>"
      ],
      "text/plain": [
       "Spark app-20180417184903-0004: Some(http://145.100.58.104:4040)"
      ]
     },
     "execution_count": 2,
     "metadata": {},
     "output_type": "execute_result"
    }
   ],
   "source": [
    "implicit val sparkContext = sc"
   ]
  },
  {
   "cell_type": "markdown",
   "metadata": {},
   "source": [
    "## Data data paths"
   ]
  },
  {
   "cell_type": "code",
   "execution_count": 3,
   "metadata": {},
   "outputs": [
    {
     "data": {
      "text/plain": [
       "tiles_path = /data/local/home/ecolidar/\n",
       "tile = C_25EZ2\n",
       "las_filepath = /data/local/home/ecolidar/C_25EZ2.las\n",
       "laz_filepath = /data/local/home/ecolidar/C_25EZ2.laz\n"
      ]
     },
     "metadata": {},
     "output_type": "display_data"
    },
    {
     "data": {
      "text/plain": [
       "/data/local/home/ecolidar/C_25EZ2.laz"
      ]
     },
     "execution_count": 3,
     "metadata": {},
     "output_type": "execute_result"
    }
   ],
   "source": [
    "val tiles_path = \"/data/local/home/ecolidar/\"\n",
    "val tile = \"C_25EZ2\"\n",
    "val las_filepath = tiles_path + tile + \".las\"\n",
    "val laz_filepath = tiles_path + tile + \".laz\""
   ]
  },
  {
   "cell_type": "markdown",
   "metadata": {},
   "source": [
    "### Read local"
   ]
  },
  {
   "cell_type": "code",
   "execution_count": 4,
   "metadata": {},
   "outputs": [
    {
     "data": {
      "text/plain": [
       "las_pipelineExpr = LasRead(/data/local/home/ecolidar/C_25EZ2.las,None,None,None,None,None,readers.las)\n",
       "pipeline = io.pdal.Pipeline@2393b59f\n"
      ]
     },
     "metadata": {},
     "output_type": "display_data"
    },
    {
     "data": {
      "text/plain": [
       "io.pdal.Pipeline@2393b59f"
      ]
     },
     "execution_count": 4,
     "metadata": {},
     "output_type": "execute_result"
    }
   ],
   "source": [
    "val las_pipelineExpr = LasRead(las_filepath)\n",
    "val las_pipeline: Pipeline = las_pipelineExpr.toPipeline\n",
    "las_pipeline.execute()"
   ]
  },
  {
   "cell_type": "code",
   "execution_count": 5,
   "metadata": {},
   "outputs": [
    {
     "data": {
      "text/plain": [
       "laz_pipelineExpr = LasRead(/data/local/home/ecolidar/C_25EZ2.laz,None,None,None,None,None,readers.las)\n",
       "pipeline = io.pdal.Pipeline@3950b779\n"
      ]
     },
     "metadata": {},
     "output_type": "display_data"
    },
    {
     "data": {
      "text/plain": [
       "io.pdal.Pipeline@3950b779"
      ]
     },
     "execution_count": 5,
     "metadata": {},
     "output_type": "execute_result"
    }
   ],
   "source": [
    "val laz_pipelineExpr = LasRead(laz_filepath)\n",
    "val laz_pipeline: Pipeline = laz_pipelineExpr.toPipeline\n",
    "laz_pipeline.execute()"
   ]
  },
  {
   "cell_type": "markdown",
   "metadata": {},
   "source": [
    "### Read HDFS"
   ]
  },
  {
   "cell_type": "code",
   "execution_count": 6,
   "metadata": {},
   "outputs": [
    {
     "data": {
      "text/plain": [
       "las_path = /user/hadoop/ahn3/C_25EZ2.las\n",
       "laz_path = /user/hadoop/ahn3/C_25EZ2.laz\n"
      ]
     },
     "metadata": {},
     "output_type": "display_data"
    },
    {
     "data": {
      "text/plain": [
       "/user/hadoop/ahn3/C_25EZ2.laz"
      ]
     },
     "execution_count": 6,
     "metadata": {},
     "output_type": "execute_result"
    }
   ],
   "source": [
    "val las_path = new Path(\"/user/hadoop/ahn3/C_25EZ2.las\")\n",
    "val laz_path = new Path(\"/user/hadoop/ahn3/C_25EZ2.laz\")"
   ]
  },
  {
   "cell_type": "code",
   "execution_count": 8,
   "metadata": {},
   "outputs": [
    {
     "data": {
      "text/plain": [
       "rdd_las_pipelineExpr = NewHadoopRDD[0] at newAPIHadoopRDD at HadoopPointCloudRDD.scala:76\n"
      ]
     },
     "metadata": {},
     "output_type": "display_data"
    },
    {
     "data": {
      "text/plain": [
       "1"
      ]
     },
     "execution_count": 8,
     "metadata": {},
     "output_type": "execute_result"
    }
   ],
   "source": [
    "val rdd_las_pipelineExpr = HadoopPointCloudRDD(las_path)\n",
    "rdd_las_pipelineExpr.count()"
   ]
  },
  {
   "cell_type": "code",
   "execution_count": 9,
   "metadata": {},
   "outputs": [
    {
     "data": {
      "text/plain": [
       "rdd_laz_pipelineExpr = NewHadoopRDD[1] at newAPIHadoopRDD at HadoopPointCloudRDD.scala:76\n"
      ]
     },
     "metadata": {},
     "output_type": "display_data"
    },
    {
     "data": {
      "text/plain": [
       "1"
      ]
     },
     "execution_count": 9,
     "metadata": {},
     "output_type": "execute_result"
    }
   ],
   "source": [
    "val rdd_laz_pipelineExpr = HadoopPointCloudRDD(laz_path)\n",
    "rdd_laz_pipelineExpr.count()"
   ]
  },
  {
   "cell_type": "code",
   "execution_count": null,
   "metadata": {},
   "outputs": [],
   "source": []
  }
 ],
 "metadata": {
  "kernelspec": {
   "display_name": "Apache Toree - Scala",
   "language": "scala",
   "name": "apache_toree_scala"
  },
  "language_info": {
   "codemirror_mode": "text/x-scala",
   "file_extension": ".scala",
   "mimetype": "text/x-scala",
   "name": "scala",
   "pygments_lexer": "scala",
   "version": "2.11.8"
  }
 },
 "nbformat": 4,
 "nbformat_minor": 2
}
