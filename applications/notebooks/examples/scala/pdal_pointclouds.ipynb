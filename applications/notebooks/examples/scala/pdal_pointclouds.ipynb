{
 "cells": [
  {
   "cell_type": "markdown",
   "metadata": {},
   "source": [
    "# Load PointClouds in Spark using PDAL"
   ]
  },
  {
   "cell_type": "code",
   "execution_count": 1,
   "metadata": {},
   "outputs": [],
   "source": [
    "import geotrellis.pointcloud.spark.io.hadoop.HadoopPointCloudRDD\n",
    "import io.pdal.Pipeline\n",
    "import io.pdal.pipeline.{LasRead, RangeFilter, RawExpr, Read, ReprojectionFilter}\n",
    "import org.apache.hadoop.fs.Path\n",
    "import org.apache.spark.{SparkConf, SparkContext}"
   ]
  },
  {
   "cell_type": "code",
   "execution_count": 2,
   "metadata": {},
   "outputs": [
    {
     "data": {
      "text/plain": [
       "Waiting for a Spark session to start..."
      ]
     },
     "metadata": {},
     "output_type": "display_data"
    },
    {
     "data": {
      "text/plain": [
       "sparkContext = org.apache.spark.SparkContext@3995386c\n"
      ]
     },
     "metadata": {},
     "output_type": "display_data"
    },
    {
     "data": {
      "text/html": [
       "<ul>\n",
       "<li><a href=\"Some(http://145.100.58.104:4040)\" target=\"new_tab\">Spark UI: app-20180417175438-0001</a></li>\n",
       "</ul>"
      ],
      "text/plain": [
       "Spark app-20180417175438-0001: Some(http://145.100.58.104:4040)"
      ]
     },
     "execution_count": 2,
     "metadata": {},
     "output_type": "execute_result"
    }
   ],
   "source": [
    "implicit val sparkContext = sc"
   ]
  },
  {
   "cell_type": "markdown",
   "metadata": {},
   "source": [
    "## Define pipeline"
   ]
  },
  {
   "cell_type": "code",
   "execution_count": 3,
   "metadata": {},
   "outputs": [
    {
     "data": {
      "text/plain": [
       "pipelineExpr = LasRead(/data/local/home/ecolidar/C_25EZ2.las,None,None,None,None,None,readers.las)\n",
       "pipeline = io.pdal.Pipeline@28c7e0d6\n"
      ]
     },
     "metadata": {},
     "output_type": "display_data"
    },
    {
     "data": {
      "text/plain": [
       "io.pdal.Pipeline@28c7e0d6"
      ]
     },
     "execution_count": 3,
     "metadata": {},
     "output_type": "execute_result"
    }
   ],
   "source": [
    "val pipelineExpr = LasRead(\"/data/local/home/ecolidar/C_25EZ2.las\")\n",
    "val pipeline: Pipeline = pipelineExpr.toPipeline\n",
    "pipeline.execute()"
   ]
  },
  {
   "cell_type": "markdown",
   "metadata": {},
   "source": [
    "## Data read"
   ]
  },
  {
   "cell_type": "code",
   "execution_count": 14,
   "metadata": {},
   "outputs": [
    {
     "data": {
      "text/plain": [
       "tiles_path = /user/hadoop/ahn3/\n",
       "tile = C_25EZ2\n",
       "las_filepath = /user/hadoop/ahn3/C_25EZ2.las\n",
       "laz_filepath = /user/hadoop/ahn3/C_25EZ2.laz\n"
      ]
     },
     "metadata": {},
     "output_type": "display_data"
    },
    {
     "data": {
      "text/plain": [
       "/user/hadoop/ahn3/C_25EZ2.laz"
      ]
     },
     "execution_count": 14,
     "metadata": {},
     "output_type": "execute_result"
    }
   ],
   "source": [
    "val tiles_path = \"/user/hadoop/ahn3/\"\n",
    "val tile = \"C_25EZ2\"\n",
    "val las_filepath = tiles_path + tile + \".las\"\n",
    "val laz_filepath = tiles_path + tile + \".laz\""
   ]
  },
  {
   "cell_type": "markdown",
   "metadata": {},
   "source": [
    "### Read local"
   ]
  },
  {
   "cell_type": "code",
   "execution_count": 18,
   "metadata": {},
   "outputs": [
    {
     "data": {
      "text/plain": [
       "las = LasRead(/user/hadoop/ahn3/C_25EZ2.las,None,None,None,None,None,readers.las)\n",
       "laz = LasRead(/user/hadoop/ahn3/C_25EZ2.laz,None,None,None,None,None,readers.las)\n"
      ]
     },
     "metadata": {},
     "output_type": "display_data"
    },
    {
     "data": {
      "text/plain": [
       "LasRead(/user/hadoop/ahn3/C_25EZ2.laz,None,None,None,None,None,readers.las)"
      ]
     },
     "execution_count": 18,
     "metadata": {},
     "output_type": "execute_result"
    }
   ],
   "source": [
    "val las = LasRead(las_filepath)\n",
    "val laz = LasRead(laz_filepath)"
   ]
  },
  {
   "cell_type": "markdown",
   "metadata": {},
   "source": [
    "### Read HDFS"
   ]
  },
  {
   "cell_type": "code",
   "execution_count": 8,
   "metadata": {},
   "outputs": [
    {
     "data": {
      "text/plain": [
       "lazpath = /user/hadoop/ahn3/C_25EZ2.laz\n",
       "rdd_laz = NewHadoopRDD[2] at newAPIHadoopRDD at HadoopPointCloudRDD.scala:76\n"
      ]
     },
     "metadata": {},
     "output_type": "display_data"
    },
    {
     "data": {
      "text/plain": [
       "NewHadoopRDD[2] at newAPIHadoopRDD at HadoopPointCloudRDD.scala:76"
      ]
     },
     "execution_count": 8,
     "metadata": {},
     "output_type": "execute_result"
    }
   ],
   "source": [
    "val las_path = new Path(\"/user/hadoop/ahn3/C_25EZ2.las\")\n",
    "val laz_path = new Path(\"/user/hadoop/ahn3/C_25EZ2.laz\")"
   ]
  },
  {
   "cell_type": "code",
   "execution_count": 19,
   "metadata": {},
   "outputs": [
    {
     "data": {
      "text/plain": [
       "rdd_las = NewHadoopRDD[5] at newAPIHadoopRDD at HadoopPointCloudRDD.scala:76\n"
      ]
     },
     "metadata": {},
     "output_type": "display_data"
    },
    {
     "data": {
      "text/plain": [
       "1"
      ]
     },
     "execution_count": 19,
     "metadata": {},
     "output_type": "execute_result"
    }
   ],
   "source": [
    "val rdd_las = HadoopPointCloudRDD(laspath)\n",
    "rdd_las.count()"
   ]
  },
  {
   "cell_type": "code",
   "execution_count": 20,
   "metadata": {},
   "outputs": [
    {
     "data": {
      "text/plain": [
       "rdd_laz = NewHadoopRDD[6] at newAPIHadoopRDD at HadoopPointCloudRDD.scala:76\n"
      ]
     },
     "metadata": {},
     "output_type": "display_data"
    },
    {
     "data": {
      "text/plain": [
       "1"
      ]
     },
     "execution_count": 20,
     "metadata": {},
     "output_type": "execute_result"
    }
   ],
   "source": [
    "val rdd_laz = HadoopPointCloudRDD(lazpath)\n",
    "rdd_laz.count()"
   ]
  }
 ],
 "metadata": {
  "kernelspec": {
   "display_name": "Apache Toree - Scala",
   "language": "scala",
   "name": "apache_toree_scala"
  },
  "language_info": {
   "codemirror_mode": "text/x-scala",
   "file_extension": ".scala",
   "mimetype": "text/x-scala",
   "name": "scala",
   "pygments_lexer": "scala",
   "version": "2.11.8"
  }
 },
 "nbformat": 4,
 "nbformat_minor": 2
}
