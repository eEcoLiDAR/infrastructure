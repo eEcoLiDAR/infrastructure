{
 "cells": [
  {
   "cell_type": "markdown",
   "metadata": {},
   "source": [
    "# Load PointClouds in Spark using PDAL\n",
    "We calculate the Normalized Height for each point."
   ]
  },
  {
   "cell_type": "code",
   "execution_count": 41,
   "metadata": {},
   "outputs": [],
   "source": [
    "import geotrellis.pointcloud.spark.Extent3D\n",
    "import geotrellis.pointcloud.spark.io.hadoop.HadoopPointCloudRDD\n",
    "import geotrellis.pointcloud.spark.tiling.CutPointCloud\n",
    "import geotrellis.raster.GridExtent\n",
    "import geotrellis.spark.SpatialKey\n",
    "import geotrellis.spark.io.hadoop.HadoopCollectionLayerReader\n",
    "import geotrellis.spark.tiling.LayoutDefinition\n",
    "import geotrellis.vector.Extent\n",
    "import io.pdal.Pipeline\n",
    "import io.pdal.pipeline.{EigenValuesFilter, LasRead, PythonFilter, Read}\n",
    "import org.apache.hadoop.fs.Path\n",
    "import org.apache.spark.rdd.RDD\n",
    "import org.apache.spark.{SparkConf, SparkContext}\n",
    "import spire.syntax.cfor._"
   ]
  },
  {
   "cell_type": "code",
   "execution_count": 2,
   "metadata": {},
   "outputs": [
    {
     "data": {
      "text/plain": [
       "Waiting for a Spark session to start..."
      ]
     },
     "metadata": {},
     "output_type": "display_data"
    },
    {
     "data": {
      "text/plain": [
       "sparkContext = org.apache.spark.SparkContext@422c0cfb\n"
      ]
     },
     "metadata": {},
     "output_type": "display_data"
    },
    {
     "data": {
      "text/html": [
       "<ul>\n",
       "<li><a href=\"Some(http://145.100.58.104:4040)\" target=\"new_tab\">Spark UI: app-20180507100359-0000</a></li>\n",
       "</ul>"
      ],
      "text/plain": [
       "Spark app-20180507100359-0000: Some(http://145.100.58.104:4040)"
      ]
     },
     "execution_count": 2,
     "metadata": {},
     "output_type": "execute_result"
    }
   ],
   "source": [
    "implicit val sparkContext = sc"
   ]
  },
  {
   "cell_type": "markdown",
   "metadata": {},
   "source": [
    "### Read HDFS and apply HagFilter"
   ]
  },
  {
   "cell_type": "code",
   "execution_count": 55,
   "metadata": {},
   "outputs": [
    {
     "data": {
      "text/plain": [
       "laz_path = /user/hadoop/ahn3/C_25EZ2.las\n",
       "pipelineExpr = List(Read(local,None,None,None), HagFilter(filters.hag))\n",
       "rdd_laz = NewHadoopRDD[56] at newAPIHadoopRDD at HadoopPointCloudRDD.scala:76\n"
      ]
     },
     "metadata": {},
     "output_type": "display_data"
    },
    {
     "data": {
      "text/plain": [
       "NewHadoopRDD[56] at newAPIHadoopRDD at HadoopPointCloudRDD.scala:76"
      ]
     },
     "execution_count": 55,
     "metadata": {},
     "output_type": "execute_result"
    }
   ],
   "source": [
    "val laz_path = new Path(\"/user/hadoop/ahn3/C_25EZ2.las\")\n",
    "val pipelineExpr = Read(\"local\") ~ HagFilter()\n",
    "val rdd_laz = HadoopPointCloudRDD(laz_path, options = HadoopPointCloudRDD.Options(pipeline = pipelineExpr))"
   ]
  },
  {
   "cell_type": "markdown",
   "metadata": {},
   "source": [
    "### Verify if HeightAboveGround shows up in the schema"
   ]
  },
  {
   "cell_type": "code",
   "execution_count": 48,
   "metadata": {},
   "outputs": [
    {
     "data": {
      "text/plain": [
       "Array(\"{\n",
       "  \"schema\":\n",
       "  {\n",
       "    \"dimensions\":\n",
       "    [\n",
       "      {\n",
       "        \"name\": \"X\",\n",
       "        \"size\": 8,\n",
       "        \"type\": \"floating\"\n",
       "      },\n",
       "      {\n",
       "        \"name\": \"Y\",\n",
       "        \"size\": 8,\n",
       "        \"type\": \"floating\"\n",
       "      },\n",
       "      {\n",
       "        \"name\": \"Z\",\n",
       "        \"size\": 8,\n",
       "        \"type\": \"floating\"\n",
       "      },\n",
       "      {\n",
       "        \"name\": \"Intensity\",\n",
       "        \"size\": 2,\n",
       "        \"type\": \"unsigned\"\n",
       "      },\n",
       "      {\n",
       "        \"name\": \"ReturnNumber\",\n",
       "        \"size\": 1,\n",
       "        \"type\": \"unsigned\"\n",
       "      },\n",
       "      {\n",
       "        \"name\": \"NumberOfReturns\",\n",
       "        \"size\": 1,\n",
       "        \"type\": \"unsigned\"\n",
       "      },\n",
       "      {\n",
       "        \"name\": \"ScanDirectionFlag\",\n",
       "        \"size\": 1,\n",
       "        \"type\": \"unsigned\"\n",
       "      },\n",
       "      {\n",
       "        \"name\": \"EdgeOfFlightLine\",\n",
       "        \"size\": 1,\n",
       "        \"type\": \"unsigne...\n"
      ]
     },
     "metadata": {},
     "output_type": "display_data"
    },
    {
     "data": {
      "text/plain": [
       "[{\n",
       "  \"schema\":\n",
       "  {\n",
       "    \"dimensions\":\n",
       "    [\n",
       "      {\n",
       "        \"name\": \"X\",\n",
       "        \"size\": 8,\n",
       "        \"type\": \"floating\"\n",
       "      },\n",
       "      {\n",
       "        \"name\": \"Y\",\n",
       "        \"size\": 8,\n",
       "        \"type\": \"floating\"\n",
       "      },\n",
       "      {\n",
       "        \"name\": \"Z\",\n",
       "        \"size\": 8,\n",
       "        \"type\": \"floating\"\n",
       "      },\n",
       "      {\n",
       "        \"name\": \"Intensity\",\n",
       "        \"size\": 2,\n",
       "        \"type\": \"unsigned\"\n",
       "      },\n",
       "      {\n",
       "        \"name\": \"ReturnNumber\",\n",
       "        \"size\": 1,\n",
       "        \"type\": \"unsigned\"\n",
       "      },\n",
       "      {\n",
       "        \"name\": \"NumberOfReturns\",\n",
       "        \"size\": 1,\n",
       "        \"type\": \"unsigned\"\n",
       "      },\n",
       "      {\n",
       "        \"name\": \"ScanDirectionFlag\",\n",
       "        \"size\": 1,\n",
       "        \"type\": \"unsigned\"\n",
       "      },\n",
       "      {\n",
       "        \"name\": \"EdgeOfFlightLine\",\n",
       "        \"size\": 1,\n",
       "        \"type\": \"unsigned\"\n",
       "      },\n",
       "      {\n",
       "        \"name\": \"Classification\",\n",
       "        \"size\": 1,\n",
       "        \"type\": \"unsigned\"\n",
       "      },\n",
       "      {\n",
       "        \"name\": \"ScanAngleRank\",\n",
       "        \"size\": 4,\n",
       "        \"type\": \"floating\"\n",
       "      },\n",
       "      {\n",
       "        \"name\": \"UserData\",\n",
       "        \"size\": 1,\n",
       "        \"type\": \"unsigned\"\n",
       "      },\n",
       "      {\n",
       "        \"name\": \"PointSourceId\",\n",
       "        \"size\": 2,\n",
       "        \"type\": \"unsigned\"\n",
       "      },\n",
       "      {\n",
       "        \"name\": \"GpsTime\",\n",
       "        \"size\": 8,\n",
       "        \"type\": \"floating\"\n",
       "      },\n",
       "      {\n",
       "        \"name\": \"HeightAboveGround\",\n",
       "        \"size\": 8,\n",
       "        \"type\": \"floating\"\n",
       "      }\n",
       "    ]\n",
       "  }\n",
       "}\n",
       "]"
      ]
     },
     "execution_count": 48,
     "metadata": {},
     "output_type": "execute_result"
    }
   ],
   "source": [
    "rdd_laz.cache()\n",
    "rdd_laz.map{ case (h, i) => h.schema}.take(1)"
   ]
  },
  {
   "cell_type": "markdown",
   "metadata": {},
   "source": [
    "### Load all the points into RDD and compare Z with NormalizedHeight"
   ]
  },
  {
   "cell_type": "code",
   "execution_count": 65,
   "metadata": {},
   "outputs": [
    {
     "data": {
      "text/plain": [
       "points = MapPartitionsRDD[82] at filter at <console>:95\n"
      ]
     },
     "metadata": {},
     "output_type": "display_data"
    },
    {
     "data": {
      "text/plain": [
       "MapPartitionsRDD[82] at filter at <console>:95"
      ]
     },
     "execution_count": 65,
     "metadata": {},
     "output_type": "execute_result"
    }
   ],
   "source": [
    "val points :RDD[(Double, Double, Double, Byte, Double)] = rdd_laz.flatMap(_._2).mapPartitions{ _.map { packedPoints =>\n",
    "    var res = new Array[(Double, Double, Double, Byte, Double)](packedPoints.length)\n",
    "    cfor(0)(_ < packedPoints.length, _ + 1) { i =>\n",
    "        res(i) = (packedPoints.getX(i), packedPoints.getY(i), packedPoints.getZ(i), packedPoints.getByte(i, dim = \"Classification\"), packedPoints.getDouble(i, dim = \"HeightAboveGround\"))\n",
    "    }\n",
    "    res\n",
    "}}.flatMap( m => m).filter(_._4 != 2)//.filter(_._3 > 12)"
   ]
  },
  {
   "cell_type": "code",
   "execution_count": 62,
   "metadata": {},
   "outputs": [
    {
     "data": {
      "text/plain": [
       "15785689"
      ]
     },
     "execution_count": 62,
     "metadata": {},
     "output_type": "execute_result"
    }
   ],
   "source": [
    "points.count()"
   ]
  },
  {
   "cell_type": "code",
   "execution_count": 79,
   "metadata": {},
   "outputs": [
    {
     "data": {
      "text/plain": [
       "[(125000.0,487503.61100000003,10.738,6,7.497999999999999), (125000.0,487512.52400000003,10.867,6,7.644000000000001), (125000.0,487522.228,10.901,6,9.167), (125000.0,488181.435,-0.47500000000000003,9,-0.8190000000000001), (125000.0,488317.335,-0.466,9,-0.020000000000000018), (125000.0,488351.775,-0.47400000000000003,9,-0.028000000000000025), (125000.0,488396.354,-0.47900000000000004,9,-0.03300000000000003), (125000.0,488475.981,-0.481,9,-0.08999999999999997), (125000.0,488810.282,8.955,1,8.016), (125000.0,488861.316,4.473,1,3.635)]"
      ]
     },
     "execution_count": 79,
     "metadata": {},
     "output_type": "execute_result"
    }
   ],
   "source": [
    "points.sortBy{ case(x, y, z, c, zh) => (x,y)}.take(10)"
   ]
  },
  {
   "cell_type": "markdown",
   "metadata": {},
   "source": [
    "## Tile the pointCloud"
   ]
  },
  {
   "cell_type": "code",
   "execution_count": 58,
   "metadata": {},
   "outputs": [
    {
     "data": {
      "text/plain": [
       "extent = Extent(0.0, 0.0, 10.0, 5.0)\n",
       "gridExtent = GridExtent(Extent(0.0, 0.0, 10.0, 5.0),1.0,1.0)\n",
       "layoutDefinition = GridExtent(Extent(0.0, 0.0, 10.0, 5.0),1.0,1.0)\n",
       "pointCloud = MapPartitionsRDD[62] at flatMap at <console>:103\n",
       "pointCloudTiled = ContextRDD[65] at RDD at ContextRDD.scala:35\n"
      ]
     },
     "metadata": {},
     "output_type": "display_data"
    },
    {
     "data": {
      "text/plain": [
       "ContextRDD[65] at RDD at ContextRDD.scala:35"
      ]
     },
     "execution_count": 58,
     "metadata": {},
     "output_type": "execute_result"
    }
   ],
   "source": [
    "val extent = Extent(0, 0, 10, 5)\n",
    "val gridExtent = GridExtent(extent, 1, 1)  // 10×5 pixels\n",
    "val layoutDefinition = LayoutDefinition(gridExtent, 10, 5)\n",
    "val pointCloud = rdd_laz.flatMap(_._2)\n",
    "val pointCloudTiled = CutPointCloud(pointCloud, layoutDefinition)"
   ]
  },
  {
   "cell_type": "code",
   "execution_count": 67,
   "metadata": {},
   "outputs": [
    {
     "name": "stdout",
     "output_type": "stream",
     "text": [
      "[Stage 41:====================================================>(993 + 7) / 1000]"
     ]
    },
    {
     "data": {
      "text/plain": [
       "points2 = MapPartitionsRDD[83] at mapPartitions at <console>:97\n",
       "pointsb = MapPartitionsRDD[88] at filter at <console>:104\n"
      ]
     },
     "metadata": {},
     "output_type": "display_data"
    },
    {
     "data": {
      "text/plain": [
       "MapPartitionsRDD[88] at filter at <console>:104"
      ]
     },
     "execution_count": 67,
     "metadata": {},
     "output_type": "execute_result"
    }
   ],
   "source": [
    "val points2 :RDD[(SpatialKey, Array[(Double, Double, Double, Byte, Double)])] = pointCloudTiled.mapPartitions{ _.map { case (s, packedPoints) => (s,{\n",
    "  var res = new Array[(Double, Double, Double, Byte, Double)](packedPoints.length)\n",
    "  cfor(0)(_ < packedPoints.length, _ + 1) { i =>\n",
    "    res(i) = (packedPoints.getX(i), packedPoints.getY(i), packedPoints.getZ(i), packedPoints.getByte(i, dim = \"Classification\"), packedPoints.getDouble(i, dim = \"HeightAboveGround\"))\n",
    "  }\n",
    "  res})\n",
    "}}\n",
    "val pointsb = points2.flatMap(m => m._2).filter(_._4 != 2)"
   ]
  },
  {
   "cell_type": "code",
   "execution_count": 60,
   "metadata": {},
   "outputs": [
    {
     "name": "stdout",
     "output_type": "stream",
     "text": [
      "[Stage 32:====================================================>(995 + 5) / 1000]"
     ]
    },
    {
     "data": {
      "text/plain": [
       "15785689"
      ]
     },
     "execution_count": 60,
     "metadata": {},
     "output_type": "execute_result"
    }
   ],
   "source": [
    "pointsb.count()"
   ]
  },
  {
   "cell_type": "code",
   "execution_count": 80,
   "metadata": {},
   "outputs": [
    {
     "name": "stdout",
     "output_type": "stream",
     "text": [
      "[Stage 81:====================================================>(996 + 4) / 1000]"
     ]
    },
    {
     "data": {
      "text/plain": [
       "[(125000.0,487503.61100000003,10.738,6,7.497999999999999), (125000.0,487512.52400000003,10.867,6,7.644000000000001), (125000.0,487522.228,10.901,6,9.167), (125000.0,488181.435,-0.47500000000000003,9,-0.8190000000000001), (125000.0,488317.335,-0.466,9,-0.020000000000000018), (125000.0,488351.775,-0.47400000000000003,9,-0.028000000000000025), (125000.0,488396.354,-0.47900000000000004,9,-0.03300000000000003), (125000.0,488475.981,-0.481,9,-0.08999999999999997), (125000.0,488810.282,8.955,1,8.016), (125000.0,488861.316,4.473,1,3.635)]"
      ]
     },
     "execution_count": 80,
     "metadata": {},
     "output_type": "execute_result"
    }
   ],
   "source": [
    "pointsb.sortBy{ case(x, y, z, c, zh) => (x,y)}.take(10)"
   ]
  },
  {
   "cell_type": "code",
   "execution_count": null,
   "metadata": {},
   "outputs": [],
   "source": []
  }
 ],
 "metadata": {
  "kernelspec": {
   "display_name": "Apache Toree - Scala",
   "language": "scala",
   "name": "apache_toree_scala"
  },
  "language_info": {
   "codemirror_mode": "text/x-scala",
   "file_extension": ".scala",
   "mimetype": "text/x-scala",
   "name": "scala",
   "pygments_lexer": "scala",
   "version": "2.11.8"
  }
 },
 "nbformat": 4,
 "nbformat_minor": 2
}
