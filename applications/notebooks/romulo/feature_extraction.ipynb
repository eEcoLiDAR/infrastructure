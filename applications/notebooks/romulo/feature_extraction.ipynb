{
 "cells": [
  {
   "cell_type": "markdown",
   "metadata": {},
   "source": [
    "# Define system environment"
   ]
  },
  {
   "cell_type": "code",
   "execution_count": 1,
   "metadata": {},
   "outputs": [],
   "source": [
    "#Add all dependencies to PYTHON_PATH\n",
    "import sys\n",
    "sys.path.append(\"/usr/lib/spark/python\")\n",
    "sys.path.append(\"/usr/lib/spark/python/lib/py4j-0.10.4-src.zip\")\n",
    "sys.path.append(\"/usr/lib/python3/dist-packages\")\n",
    "sys.path.append(\"/data/local/jupyterhub/modules/python\")\n",
    "\n",
    "#Define environment variables\n",
    "import os\n",
    "os.environ[\"HADOOP_CONF_DIR\"] = \"/etc/hadoop/conf\"\n",
    "os.environ[\"PYSPARK_PYTHON\"] = \"python3\"\n",
    "os.environ[\"PYSPARK_DRIVER_PYTHON\"] = \"ipython\"\n",
    "\n",
    "#Load PySpark to connect to a Spark cluster\n",
    "from pyspark import SparkConf, SparkContext"
   ]
  },
  {
   "cell_type": "markdown",
   "metadata": {},
   "source": [
    "# User imports"
   ]
  },
  {
   "cell_type": "code",
   "execution_count": 20,
   "metadata": {},
   "outputs": [],
   "source": [
    "import shapely\n",
    "from shapely import wkt\n",
    "from shapely.errors import WKTReadingError"
   ]
  },
  {
   "cell_type": "markdown",
   "metadata": {},
   "source": [
    "# Connect to Spark"
   ]
  },
  {
   "cell_type": "code",
   "execution_count": 4,
   "metadata": {},
   "outputs": [
    {
     "name": "stdout",
     "output_type": "stream",
     "text": [
      "A  new Spark Context will be created.\n"
     ]
    }
   ],
   "source": [
    "appName = \"feature_extraction\"\n",
    "masterURL=\"spark://ecolidar0.eecolidar-nlesc.surf-hosted.nl:7077\"\n",
    "\n",
    "#A context needs to be created if it does not already exist\n",
    "try:\n",
    "    sc.stop()\n",
    "except NameError:\n",
    "    print(\"A  new Spark Context will be created.\")\n",
    "    \n",
    "sc = SparkContext(conf = SparkConf().setAppName(appName).setMaster(masterURL))"
   ]
  },
  {
   "cell_type": "markdown",
   "metadata": {},
   "source": [
    "# Configuration\n",
    "\n",
    "We have now the notebook connected to Spark and to laserchicken. The user should set here the parameters, such as area of interest and list of features, and then request a run of the **feature extraction** phase."
   ]
  },
  {
   "cell_type": "code",
   "execution_count": 27,
   "metadata": {},
   "outputs": [],
   "source": [
    "#Data location\n",
    "data_location = \"/user/hadoop/\"\n",
    "\n",
    "#Define the LiDAR data set\n",
    "lidar_data_set = data_location + \"ahn3/\"\n",
    "\n",
    "#Define the area of interest, it can be a complex polygon or a bounding box\n",
    "#area_interest_polygon_wkt = \"POLYGON()\"\n",
    "area_interest_polygon_wkt = \"POLYGON(( 243590.0 572110.0, 243640.0 572160.0, 243700.0 572110.0, 243640.0 572060.0, 243590.0 572110.0 ))\"\n",
    "\n",
    "\n",
    "#Choose classification metric < (H = Height) | (C = Cover) | (Vv = Vertical variability) | (Hv = Horizontal variability) >\n",
    "classification_metric = \"Hs\"\n",
    "\n",
    "#Choose object structure < (O = Object) | (SL = Single Layer) | (ML = Multi Layer) >\n",
    "object_structure = \"SL\"\n",
    "\n",
    "#If you chose SL for object structure, the type of single layer < (C = Canopy) | (U = Understory) | (O = Other layer) >\n",
    "type_of_single_layer = \"C\"\n",
    "\n",
    "#Choose the neighborhood structure < (G = Grid Cell) | (V = Voxel) | (S = Sphere) | (C = Cylinder) > and its radius.\n",
    "neighborhood_structure = \"G\"\n",
    "neighborhood_radious = 1.0"
   ]
  },
  {
   "cell_type": "markdown",
   "metadata": {},
   "source": [
    "# Verification\n",
    "\n",
    "In this part of the notebook we verify all configuration done by the user. Once it is verified, we will set the last parameters before running feature extraction."
   ]
  },
  {
   "cell_type": "code",
   "execution_count": 28,
   "metadata": {},
   "outputs": [
    {
     "name": "stdout",
     "output_type": "stream",
     "text": [
      "The Polygon for the area of interest is a valid one.\n",
      "\n",
      "ERROR: classification metric is incorrect, it should be: \n",
      " < (H = Height) | (C = Cover) | (Vv = Vertical variability) | (Hv = Horizontal variability) >.\n",
      "\n",
      "Object structure is correct.\n",
      "\n",
      "ERROR: type of single layer is incorrect, it should be: \n",
      " < (C = Canopy) | (U = Understory) | (O = Other layer) >.\n",
      "\n",
      "Neighborhood structure is correct.\n",
      "\n"
     ]
    }
   ],
   "source": [
    "#Verify Polygon\n",
    "try:\n",
    "    area_interest_polygon = wkt.loads(area_interest_polygon_wkt)\n",
    "except WKTReadingError as err:\n",
    "    print(\"WKTReadingError: {0}\\n\".format(err))\n",
    "else:\n",
    "    if (isinstance(area_interest_polygon, shapely.geometry.polygon.Polygon)):\n",
    "        print(\"The Polygon for the area of interest is a valid one.\\n\")\n",
    "    else:\n",
    "        print(\"ERROR: The polygon for the area of interest is invalid.\\n\")\n",
    "    \n",
    "#Verify classification metric\n",
    "if classification_metric in [ \"H\", \"C\", \"Vv\", \"Hv\"]:\n",
    "    print(\"Classification metric is correct.\\n\")\n",
    "else:\n",
    "    print(\"ERROR: classification metric is incorrect, it should be: \\n < (H = Height) | (C = Cover) | (Vv = Vertical variability) | (Hv = Horizontal variability) >.\\n\")\n",
    "\n",
    "#Verify object structure\n",
    "if object_structure in [ \"O\", \"SL\", \"ML\" ]:\n",
    "    print(\"Object structure is correct.\\n\")\n",
    "else:\n",
    "    print(\"ERROR: object structure is incorrect, it should be: \\n < (O = Object) | (SL = Single Layer) | (ML = Multi Layer) >.\\n\")\n",
    "\n",
    "#Verify object structure\n",
    "if object_structure == \"SL\":\n",
    "    if object_structure in [ \"C\", \"U\", \"O\" ]:\n",
    "        print(\"Type of single layer is correct.\\n\")\n",
    "    else:\n",
    "        print(\"ERROR: type of single layer is incorrect, it should be: \\n < (C = Canopy) | (U = Understory) | (O = Other layer) >.\\n\")\n",
    "\n",
    "#Verify neighborhood structure\n",
    "if neighborhood_structure in [ \"G\", \"V\", \"S\", \"C\" ]:\n",
    "    print(\"Neighborhood structure is correct.\\n\")\n",
    "    if (neighborhood_radious <= 0.0):\n",
    "        print(\"ERROR: the radious for neighborhood structure should be greather than 0.\\n\")\n",
    "else:\n",
    "    print(\"ERROR: neighborhood structure is incorrect, it should be: \\n < (G = Grid Cell) | (V = Voxel) | (S = Sphere) | (C = Cylinder) >.\\n\")"
   ]
  },
  {
   "cell_type": "markdown",
   "metadata": {},
   "source": [
    "# Support functions"
   ]
  },
  {
   "cell_type": "code",
   "execution_count": null,
   "metadata": {},
   "outputs": [],
   "source": []
  },
  {
   "cell_type": "markdown",
   "metadata": {},
   "source": [
    "# Read Data"
   ]
  },
  {
   "cell_type": "markdown",
   "metadata": {},
   "source": [
    "## Read LiDAR data"
   ]
  },
  {
   "cell_type": "code",
   "execution_count": null,
   "metadata": {},
   "outputs": [],
   "source": []
  },
  {
   "cell_type": "markdown",
   "metadata": {},
   "source": [
    "## Extract area of interest"
   ]
  },
  {
   "cell_type": "code",
   "execution_count": null,
   "metadata": {},
   "outputs": [],
   "source": []
  },
  {
   "cell_type": "markdown",
   "metadata": {},
   "source": [
    "# Feature calculation"
   ]
  },
  {
   "cell_type": "code",
   "execution_count": null,
   "metadata": {},
   "outputs": [],
   "source": []
  },
  {
   "cell_type": "markdown",
   "metadata": {},
   "source": [
    "# Save result"
   ]
  },
  {
   "cell_type": "code",
   "execution_count": null,
   "metadata": {},
   "outputs": [],
   "source": []
  }
 ],
 "metadata": {
  "kernelspec": {
   "display_name": "Python 3",
   "language": "python",
   "name": "python3"
  },
  "language_info": {
   "codemirror_mode": {
    "name": "ipython",
    "version": 3
   },
   "file_extension": ".py",
   "mimetype": "text/x-python",
   "name": "python",
   "nbconvert_exporter": "python",
   "pygments_lexer": "ipython3",
   "version": "3.5.2"
  }
 },
 "nbformat": 4,
 "nbformat_minor": 2
}
